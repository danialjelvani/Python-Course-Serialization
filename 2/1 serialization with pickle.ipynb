{
 "cells": [
  {
   "cell_type": "code",
   "execution_count": 12,
   "metadata": {},
   "outputs": [],
   "source": [
    "# shabihe json e dump o loadesh\n",
    "\n",
    "import pickle\n",
    "\n",
    "class Student:\n",
    "    pass\n",
    "\n",
    "classobj = Student()"
   ]
  },
  {
   "cell_type": "code",
   "execution_count": 13,
   "metadata": {},
   "outputs": [
    {
     "data": {
      "text/plain": [
       "b'\\x80\\x04\\x95\\x1b\\x00\\x00\\x00\\x00\\x00\\x00\\x00\\x8c\\x08__main__\\x94\\x8c\\x07Student\\x94\\x93\\x94)\\x81\\x94.'"
      ]
     },
     "execution_count": 13,
     "metadata": {},
     "output_type": "execute_result"
    }
   ],
   "source": [
    "pickle.dumps(classobj)"
   ]
  },
  {
   "cell_type": "code",
   "execution_count": 14,
   "metadata": {},
   "outputs": [
    {
     "data": {
      "text/plain": [
       "<__main__.Student at 0x1d75f1be660>"
      ]
     },
     "execution_count": 14,
     "metadata": {},
     "output_type": "execute_result"
    }
   ],
   "source": [
    "from mdurl import decode\n",
    "\n",
    "\n",
    "with open('data.pkl', 'wb') as f:\n",
    "    pickle.dump(classobj , f)\n",
    "\n",
    "with open('data.pkl', 'rb') as f:\n",
    "    decoded = pickle.load(f)\n",
    "\n",
    "decoded"
   ]
  },
  {
   "cell_type": "code",
   "execution_count": 15,
   "metadata": {},
   "outputs": [],
   "source": [
    "# lambda function ghabele pickle shodn nis\n",
    "\n",
    "# vasi taraz pickle dill hast k bayad aval installesh\n",
    "# knim\n",
    "\n",
    "# badie pickle unreadable va insecure budne\n",
    "# chon binaryie va ghablaz baz krdn nmidunim tush chie\n"
   ]
  }
 ],
 "metadata": {
  "kernelspec": {
   "display_name": "Python 3",
   "language": "python",
   "name": "python3"
  },
  "language_info": {
   "codemirror_mode": {
    "name": "ipython",
    "version": 3
   },
   "file_extension": ".py",
   "mimetype": "text/x-python",
   "name": "python",
   "nbconvert_exporter": "python",
   "pygments_lexer": "ipython3",
   "version": "3.12.6"
  }
 },
 "nbformat": 4,
 "nbformat_minor": 2
}
