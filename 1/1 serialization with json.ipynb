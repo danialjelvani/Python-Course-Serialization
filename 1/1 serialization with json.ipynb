{
 "cells": [
  {
   "cell_type": "code",
   "execution_count": 16,
   "metadata": {},
   "outputs": [],
   "source": [
    "# encode decode baraye store ya transfer\n",
    "\n",
    "# json.dump va json.load agar s akharesh biad\n",
    "# yani string beshe\n",
    "# tu file hm mitunim savesh knim"
   ]
  },
  {
   "cell_type": "code",
   "execution_count": 17,
   "metadata": {},
   "outputs": [],
   "source": [
    "data = {\n",
    "    'name':'danial',\n",
    "    'id':'127',\n",
    "    'male':'True',\n",
    "}"
   ]
  },
  {
   "cell_type": "code",
   "execution_count": 18,
   "metadata": {},
   "outputs": [],
   "source": [
    "import json\n",
    "with open('data.json', 'w') as f:\n",
    "    json.dump(data, f)"
   ]
  },
  {
   "cell_type": "code",
   "execution_count": 19,
   "metadata": {},
   "outputs": [
    {
     "data": {
      "text/plain": [
       "str"
      ]
     },
     "execution_count": 19,
     "metadata": {},
     "output_type": "execute_result"
    }
   ],
   "source": [
    "encoded = json.dumps(data)\n",
    "type(encoded)"
   ]
  },
  {
   "cell_type": "code",
   "execution_count": 20,
   "metadata": {},
   "outputs": [
    {
     "data": {
      "text/plain": [
       "dict"
      ]
     },
     "execution_count": 20,
     "metadata": {},
     "output_type": "execute_result"
    }
   ],
   "source": [
    "decoded = json.loads(encoded)\n",
    "type(decoded)"
   ]
  },
  {
   "cell_type": "code",
   "execution_count": 21,
   "metadata": {},
   "outputs": [
    {
     "name": "stdout",
     "output_type": "stream",
     "text": [
      "{\"name\": \"danial\", \"id\": \"127\", \"male\": \"True\"}\n"
     ]
    }
   ],
   "source": [
    "# vase file bedune 's' vali tu khode mohit ba 's'\"1 serialization with json.ipynb\"\n",
    "# vase rahat tar khundn data edame indent = 2 mizarim\n",
    "\n",
    "print(encoded)"
   ]
  },
  {
   "cell_type": "code",
   "execution_count": 22,
   "metadata": {},
   "outputs": [
    {
     "name": "stdout",
     "output_type": "stream",
     "text": [
      "{\n",
      "  \"name\": \"danial\",\n",
      "  \"id\": \"127\",\n",
      "  \"male\": \"True\"\n",
      "}\n"
     ]
    }
   ],
   "source": [
    "encoded2 = json.dumps(data, indent=2)\n",
    "print(encoded2)"
   ]
  },
  {
   "cell_type": "code",
   "execution_count": 23,
   "metadata": {},
   "outputs": [],
   "source": [
    "# bazi az type ha json serializable nisan\n",
    "# masaln ye instance az class\n",
    "\n",
    "class Myclass:\n",
    "    pass\n",
    "data2 = {'x' : Myclass()}\n",
    "# encoded3 = json.dumps(data2)\n"
   ]
  },
  {
   "cell_type": "code",
   "execution_count": 34,
   "metadata": {},
   "outputs": [],
   "source": [
    "data3 = {'y' : 3j+4,\n",
    "         'z' : 5j+2,\n",
    "         }\n"
   ]
  },
  {
   "cell_type": "code",
   "execution_count": 38,
   "metadata": {},
   "outputs": [],
   "source": [
    "def myencoder(obj):\n",
    "    if isinstance(obj, complex):\n",
    "        return {\n",
    "            '__complex__':True,\n",
    "            'real':obj.real,\n",
    "            'imag':obj.imag,\n",
    "        }\n",
    "    return obj"
   ]
  },
  {
   "cell_type": "code",
   "execution_count": 37,
   "metadata": {},
   "outputs": [],
   "source": [
    "def mydecoder(obj):\n",
    "    if '__complex__' in obj:\n",
    "        return complex(obj['real'], obj['imag'])\n",
    "    return obj"
   ]
  },
  {
   "cell_type": "code",
   "execution_count": 42,
   "metadata": {},
   "outputs": [
    {
     "data": {
      "text/plain": [
       "'{\"y\": {\"__complex__\": true, \"real\": 4.0, \"imag\": 3.0}, \"z\": {\"__complex__\": true, \"real\": 2.0, \"imag\": 5.0}}'"
      ]
     },
     "execution_count": 42,
     "metadata": {},
     "output_type": "execute_result"
    }
   ],
   "source": [
    "encoded_with_myencoder = json.dumps(data3, default=myencoder)\n",
    "encoded_with_myencoder"
   ]
  },
  {
   "cell_type": "code",
   "execution_count": 44,
   "metadata": {},
   "outputs": [
    {
     "data": {
      "text/plain": [
       "{'y': (4+3j), 'z': (2+5j)}"
      ]
     },
     "execution_count": 44,
     "metadata": {},
     "output_type": "execute_result"
    }
   ],
   "source": [
    "decoded_with_mydecoder = json.loads(encoded_with_myencoder, object_hook=mydecoder)\n",
    "decoded_with_mydecoder"
   ]
  }
 ],
 "metadata": {
  "kernelspec": {
   "display_name": "Python 3",
   "language": "python",
   "name": "python3"
  },
  "language_info": {
   "codemirror_mode": {
    "name": "ipython",
    "version": 3
   },
   "file_extension": ".py",
   "mimetype": "text/x-python",
   "name": "python",
   "nbconvert_exporter": "python",
   "pygments_lexer": "ipython3",
   "version": "3.12.6"
  }
 },
 "nbformat": 4,
 "nbformat_minor": 2
}
